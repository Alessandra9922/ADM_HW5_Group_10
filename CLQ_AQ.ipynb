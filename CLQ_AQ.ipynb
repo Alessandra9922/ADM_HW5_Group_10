{
 "cells": [
  {
   "cell_type": "markdown",
   "metadata": {},
   "source": [
    "## 4. Command Line Question (CLQ)"
   ]
  },
  {
   "cell_type": "markdown",
   "metadata": {},
   "source": [
    "In this question, you should use any command line tools that you know to answer the following questions using the **directed** and **unweighted** graph that you have previously created: **Citation graph**:\n",
    "\n",
    "1. Is there any node that acts as an important \"connector\" between the different parts of the graph?\n",
    "2. How does the degree of citation vary among the graph nodes?\n",
    "3. What is the average length of the shortest path among nodes?\n",
    "\n",
    "---"
   ]
  },
  {
   "cell_type": "markdown",
   "metadata": {},
   "source": [
    "For this task **we combined the use of the Python language and the AWK language**, which is (definition from the Wiki page) a data-driven scripting language consisting of a set of actions to be taken against streams of textual data.\n",
    "\n",
    "We used both the language programms because, as we can read in detail below, to answer questions 1 and 3 we thought it best to use python anyway, which performed better for this type of task."
   ]
  },
  {
   "cell_type": "markdown",
   "metadata": {},
   "source": [
    "**The screenshot below shows the output of the file bash `CommandLine.sh`** and below the image there are few line of explation about the task performed and the results obtained. \n",
    "\n",
    "To learn more about the code and understand the implementation details it is available on GitHub.\n",
    "\n",
    "We used the `citation_graph.csv` file that we saved previously."
   ]
  },
  {
   "cell_type": "markdown",
   "metadata": {},
   "source": [
    "![Screenshot of the outut obtained running the 'CommandLine' bash script](output_bash_script.png)"
   ]
  },
  {
   "cell_type": "markdown",
   "metadata": {},
   "source": [
    "**1. Is there any node that acts as an important \"connector\" between the different parts of the graph?**\n",
    "\n",
    "We're dealing with a citation graph, so connector nodes can be identified by their centrality measures that are metrics that help identify the most important or influential nodes within a graph. Exists various centrality measures but we choose the betweeneess centrality that measures the extent to which a node lies on paths between other nodes, so nodes with high betweenness centrality control the flow of information in the network since many shortest paths run through them, in few words they act as bridges between different parts of the network and it exactly what we have to do here.\n",
    "\n",
    "So to perfom this task we used the `networkx` library that calculate the betweeness centrality and then retry the node that has the max betweenness centrality score and we found out that the **important connector node is the node 2147717514 that has a score of beteewneess centrality of 0.0037**, this score could be very small to be the largest one but it is due to the fact that the graph we're dealing with is a very large graph and it influnces the score of centrality. "
   ]
  },
  {
   "cell_type": "markdown",
   "metadata": {},
   "source": [
    "**2. How does the degree of citation vary among the graph nodes?**\n",
    "\n",
    "To answer to this question we're focusing on the **in-degree** and the **out-degree** of each node and in particular we're focusing on the average of this two measures and we're finding out the **min** and the **max** to better understand how the degree vary amond the graph nodes.\n",
    "\n",
    "First of all the **in-degree** represent the number of citation received from a paper (node on our graph) and the **out-degree**, instead, represent the number of citations made by that paper (node in our graph).\n",
    "The results we have are the following: \n",
    "-**The average of in-degree is 6.47**, instead **the average of out-degree is 6.62**\n",
    "- **The max of in-degree is 131**, instead **the max of out-degree is 152**\n",
    "- **The min of bot in-degree and out-degree is 1**\n",
    "\n",
    "These results shows that the citations made by a paper are greater that the citations received from a paper.\n"
   ]
  },
  {
   "cell_type": "markdown",
   "metadata": {},
   "source": [
    "**3. What is the average length of the shortest path among nodes?**\n",
    "\n",
    "We know from the theoretical lectures that an algorithm for finding the shortest path is the Dijskstra agorithm, but this is mainly used for weighted graphs, but we are using a graph which is indirect and unweighted, so we thought we would use the BFS algorithm to find the shortest path for each node and then take the average of these, however, we know from the analysis above that our graph is a very disconnected graph (in fact it has 9473 strongly connected components) This means that the graph is quite fragmented, so to avoid it we decided to examine each strongly connected component (SCC) individually and these are the results:\n",
    "\n",
    "- **The average shortest path length across all SCCs (excluding single-node components) is approximately 1.158** and this is an average of the average path lengths calculated within each component.\n",
    "- **The longest average path length within a single component is about 4.338** this represents the component with the most extended average distance between its nodes.\n",
    "- **The shortest average path length within a component is 1.0** this likely represents small components with very direct connections between nodes.\n",
    "- **There are 252 components with more than one node** meaning that path length calculations were applicable to these components.\n",
    "\n",
    "This analysis finds out that most components appear to be tightly knit, as indicated by the relatively low average path lengths. However, the graph's overall structure is quite fragmented, with many small components, as reflected in the large number of single-node components that were excluded from this calculation.\n",
    "\n",
    "---"
   ]
  },
  {
   "cell_type": "markdown",
   "metadata": {},
   "source": [
    "## 5. Algorithmic Questions (AQ)"
   ]
  },
  {
   "cell_type": "markdown",
   "metadata": {},
   "source": [
    "### Part A\n",
    "\n",
    "A sports club hires you to create a team for the National Sports Championship. Every Italian Region sends its best $M$ athletes to compete in an intense 2-day sports event, and Rome is no exception!\n",
    "\n",
    "The trainers of Team Rome need to carefully choose the best $M$ athletes from a pool of $N$ candidates. Each athlete is uniquely identified by a number from 1 to $N$ and possesses a set of $S$ sports skills. Each skill is represented by a 3-character string with only uppercase letters and a non-negative integer indicating the athlete's proficiency in that skill (always greater than 0).\n",
    "\n",
    "The trainers have extensively studied the competition format and established an optimal set of (possibly repeated) skills the team should possess to ensure the best possible performance. Each of the ten selected athletes will be assigned one of these skills as their role within the team.\n",
    "\n",
    "The team's overall score is the sum of the skill scores of its members in the roles they have been assigned. Other skills of each athlete do not contribute to the team's score.\n",
    "\n",
    "Your task is to determine the maximum possible global score for Team Rome, given the list of candidates.\n",
    "\n",
    "Note: Assigning an athlete to a role not listed in their skills is possible. In that case, that athlete's contribution to the global score will be 0.\n",
    "\n",
    "**Input**: The input consists of $2+N(S+1)$ lines:\n",
    "\n",
    "- Line 1: the numbers $N,M$ and $S$, separated by a space.\n",
    "- Line 2: the optimal set of skills required by the trainers, as a list of $M$ space-separated skill names.\n",
    "- Lines $3$, . . . ,$N(S+1)+2$: every group of $S+1$ lines is formatted as follows:\n",
    "   - Line 1: the unique id of the athlete.\n",
    "   - Lines $2$, . . . ,$S+1$: one skill name and the corresponding skilL score, separated by a space.\n",
    "\n",
    "**Output**: Print the maximum global score that can be achieved with the available athletes."
   ]
  },
  {
   "cell_type": "markdown",
   "metadata": {},
   "source": [
    "### Your job:\n",
    "\n",
    "1. Implement an algorithm to solve the described mentioned problem.\n",
    "\n",
    "2. What is the **time complexity** (the Big O notation) of your solution? Please provide a detailed explanation of how you calculated the time complexity.\n",
    "\n",
    "3. Ask ChatGPT or any other LLM chatbot tool to check your code's time complexity (the Big O notation). Compare your answer to theirs. If the two differ, which one is right? (why?)\n",
    "\n",
    "4. If you algorithm has exponential time complexity, can you provide a **polynomial-time version**?\n",
    "\n",
    "5. If $S=1$, how does the **time complexity** of an optimal algorithm to solve this problem change?\n",
    "\n",
    "---"
   ]
  },
  {
   "cell_type": "markdown",
   "metadata": {},
   "source": [
    "<div style=\"border: solid black; background-color: #ffffff; padding:10px;\">\n",
    "\n",
    "**Let's now answer to the question 1, so in the following cell there is the explanation of the algorithm and the algorithm itself to solve the problem.**"
   ]
  },
  {
   "cell_type": "markdown",
   "metadata": {},
   "source": [
    "The aim of the mentioned problem is to assign skills to athletes in such a way as to maximize the total score.\n",
    "The problems tells us that each athlete has a unique identifier and a set of skills with corresponding proficiency scores and an athlete might not have proficiency in the assigned skill, resulting in a score of 0 for that assignment, as written above the skills may be repeated in the requirement list, implying the same skill might need to be assigned to multiple athletes so how will we approch this problem?\n",
    "\n",
    "First, we'll parse the input data to break down the number of athletes, the required skills and each athlete's proficiency in different skills, for the core problem we'll think the problem as a graph problem, where athletes are on one side, and skills are on the other, an edge between an athlete and a skill denotes the athlete's proficiency score in that skill. But now what we're intested in is to find the best way to \"match\" athletes to skills and it in in such a way similar to finding the maximum matching in a bipartite graph, but with the additional challenge of maximizing the sum of the weights (proficiency scores) of the edges selected. \n",
    "\n",
    "The approch we'll use is a **recursive approach** in order to try all possible assignments of skills to athletes so at each step, the algorithm will choose an athlete and a skill, and it will calculate the total score, but the important bit of this algorithm is also the usage of the memorization because using memorization we will store and reuse the scores of already-calculated states (combinations of assigned skills and athletes) to reduce the computational complexity in order to not calculate them again.\n",
    "The recursive approach that we will use made us able to backtrack to explore other potential assignments after having explored an assignment.\n",
    "\n",
    "**In conclusion the idea that we will use is to efficiently explore all possible assignments of athletes to skills while keeping track of the total score and optimizing for the highest possible total.**"
   ]
  },
  {
   "cell_type": "code",
   "execution_count": 1,
   "metadata": {},
   "outputs": [],
   "source": [
    "def get_best_score(data, skill_index=0, assigned_athletes=None, memo=None):\n",
    "    \n",
    "    # splits the input data string into lines\n",
    "    lines = data.strip().split('\\n')\n",
    "    \n",
    "    # parses the first line to extract N, M, and S\n",
    "    N, M, S = map(int, lines[0].split())\n",
    "    \n",
    "    # extracts the required skills from the second line of the data\n",
    "    required_skills = lines[1].split()  \n",
    "    \n",
    "    # initializes a dictionary to store athletes' skills\n",
    "    athlete_skills = {}\n",
    "    \n",
    "    # iterates over the lines to access each athlete's data that is in interval of S+1\n",
    "    for i in range(2, len(lines), S + 1):\n",
    "        # extracts the athlete's id\n",
    "        athlete_id = int(lines[i])\n",
    "        # initializes a sub-dictionary for this athlete\n",
    "        athlete_skills[athlete_id] = {}\n",
    "        # iterates over the skills for this athlete\n",
    "        for j in range(1, S + 1):\n",
    "            # parses the skill and its score, converts the score to an integer and assigns the score \n",
    "            # to the respective skill for this athlete\n",
    "            skill, score = lines[i + j].split()\n",
    "            score = int(score)\n",
    "            athlete_skills[athlete_id][skill] = score\n",
    "            \n",
    "    # initializes the memoization dictionary if it hasn't been already\n",
    "    if memo is None:\n",
    "        memo = {}\n",
    "        \n",
    "    # initializes the set of assigned athletes if it hasn't been already\n",
    "    if assigned_athletes is None:\n",
    "        assigned_athletes = set()\n",
    "        \n",
    "    # base case for the recursion: checks if all skills have been assigned\n",
    "    if skill_index == len(required_skills):\n",
    "        return 0\n",
    "\n",
    "    # creates a state tuple for memorization, consisting of the current skill index and the sorted tuple of assigned athletes\n",
    "    state = (skill_index, tuple(sorted(assigned_athletes)))\n",
    "    \n",
    "    # returns the memoized score for this state\n",
    "    if state in memo:\n",
    "        return memo[state]\n",
    "    \n",
    "    # initializes the maximum score for this state and retrieves the current skill based on the skill_index\n",
    "    max_score = 0\n",
    "    skill = required_skills[skill_index]\n",
    "\n",
    "    # iterates over each athlete and their skills and hecks if the athlete has not already been assigned a skill \n",
    "    # so retrieves the score for the current skill for this athlete, defaulting to 0 if the athlete doesn't have it \n",
    "    # and then adds the athlete to the set of assigned athletes\n",
    "    for athlete_id, skills in athlete_skills.items():\n",
    "        if athlete_id not in assigned_athletes:\n",
    "            current_score = skills.get(skill, 0)\n",
    "            assigned_athletes.add(athlete_id)\n",
    "\n",
    "            # recursively step that calls the function to assign the next skill and adds the current score to the returned score\n",
    "            score = current_score + get_best_score(data, skill_index + 1, assigned_athletes, memo)\n",
    "            # updates the maximum score if the new score is higher\n",
    "            max_score = max(max_score, score)\n",
    "\n",
    "            # backtracks by removing the athlete from the set of assigned athletes\n",
    "            assigned_athletes.remove(athlete_id)\n",
    "\n",
    "    # memorizes and returns the maximum score for this state\n",
    "    memo[state] = max_score\n",
    "    return max_score"
   ]
  },
  {
   "cell_type": "markdown",
   "metadata": {},
   "source": [
    "**Example of usage**\n",
    "\n",
    "We now test our function on two different inputs proposed by the exercise and each of these inputs must give us outputs provided:"
   ]
  },
  {
   "cell_type": "markdown",
   "metadata": {},
   "source": [
    "**INPUT 1**"
   ]
  },
  {
   "cell_type": "markdown",
   "metadata": {},
   "source": [
    "<div style=\"border: none; background-color: #f0f8ff; padding:10px; font-family: 'Roboto Mono', monospace;\">\n",
    "\n",
    "\n",
    "\n",
    "14 10 1 # N, M, S  \n",
    "SWM VOL ATH VOL VOL BSK HCK BSK SWM BSK #set of skills  \n",
    "1  \n",
    "BSK 98  \n",
    "2  \n",
    "ATH 14  \n",
    "3  \n",
    "HCK 82  \n",
    "4  \n",
    "HCK 9  \n",
    "5  \n",
    "FTB 90  \n",
    "6  \n",
    "ATH 52  \n",
    "7  \n",
    "HCK 95  \n",
    "8  \n",
    "TEN 85  \n",
    "9  \n",
    "RGB 46  \n",
    "10  \n",
    "SWM 16  \n",
    "11  \n",
    "VOL 32  \n",
    "12  \n",
    "SOC 41  \n",
    "13  \n",
    "SWM 59  \n",
    "14  \n",
    "SWM 34   \n",
    "\n",
    "</div>\n"
   ]
  },
  {
   "cell_type": "markdown",
   "metadata": {},
   "source": [
    "**OUTPUT 1**"
   ]
  },
  {
   "cell_type": "markdown",
   "metadata": {},
   "source": [
    "<div style=\"border: none; background-color: #f0f8ff; padding:10px; font-family: 'Roboto Mono', monospace;\">\n",
    "\n",
    "370\n",
    "</div>"
   ]
  },
  {
   "cell_type": "code",
   "execution_count": 2,
   "metadata": {},
   "outputs": [
    {
     "name": "stdout",
     "output_type": "stream",
     "text": [
      "Maximum global score achievable: 370\n"
     ]
    }
   ],
   "source": [
    "input_data = \"\"\"\n",
    "14 10 1\n",
    "SWM VOL ATH VOL VOL BSK HCK BSK SWM BSK\n",
    "1\n",
    "BSK 98\n",
    "2\n",
    "ATH 14\n",
    "3\n",
    "HCK 82\n",
    "4\n",
    "HCK 9\n",
    "5\n",
    "FTB 90\n",
    "6\n",
    "ATH 52\n",
    "7\n",
    "HCK 95\n",
    "8\n",
    "TEN 85\n",
    "9\n",
    "RGB 46\n",
    "10\n",
    "SWM 16\n",
    "11\n",
    "VOL 32\n",
    "12\n",
    "SOC 41\n",
    "13\n",
    "SWM 59\n",
    "14\n",
    "SWM 34\n",
    "\"\"\"\n",
    "\n",
    "optimal_score = get_best_score(input_data)\n",
    "print(\"Maximum global score achievable:\", optimal_score)\n"
   ]
  },
  {
   "cell_type": "markdown",
   "metadata": {},
   "source": [
    "**INPUT 2**\n"
   ]
  },
  {
   "cell_type": "markdown",
   "metadata": {},
   "source": [
    "<div style=\"border: none; background-color: #f0f8ff; padding:10px; font-family: 'Roboto Mono', monospace;\">\n",
    "\n",
    "14 10 2 # N, M, S  \n",
    "SWM VOL ATH VOL VOL BSK HCK BSK SWM BSK #set of skills  \n",
    "1  \n",
    "BSK 98  \n",
    "HCK 12  \n",
    "2  \n",
    "ATH 14  \n",
    "VOL 1  \n",
    "3  \n",
    "HCK 82  \n",
    "ATH 30  \n",
    "4  \n",
    "HCK 9  \n",
    "SWM 27  \n",
    "5  \n",
    "FTB 90  \n",
    "HCK 50  \n",
    "6  \n",
    "ATH 52  \n",
    "RGB 80  \n",
    "7  \n",
    "HCK 95  \n",
    "SWM 11  \n",
    "8  \n",
    "TEN 85  \n",
    "RGB 7  \n",
    "9  \n",
    "RGB 46  \n",
    "SWM 30  \n",
    "10  \n",
    "SWM 16  \n",
    "BSK 12  \n",
    "11  \n",
    "VOL 32  \n",
    "HCK 40  \n",
    "12  \n",
    "SOC 41  \n",
    "FTB 12  \n",
    "13  \n",
    "SWM 59  \n",
    "TEN 82  \n",
    "14  \n",
    "SWM 34  \n",
    "VOL 20  \n",
    "</div>"
   ]
  },
  {
   "cell_type": "markdown",
   "metadata": {},
   "source": [
    "**OUTPUT 2**"
   ]
  },
  {
   "cell_type": "markdown",
   "metadata": {},
   "source": [
    "<div style=\"border: none; background-color: #f0f8ff; padding:10px; font-family: 'Roboto Mono', monospace;\">\n",
    "399\n",
    "</div>"
   ]
  },
  {
   "cell_type": "code",
   "execution_count": 3,
   "metadata": {},
   "outputs": [
    {
     "name": "stdout",
     "output_type": "stream",
     "text": [
      "Maximum global score achievable: 399\n"
     ]
    }
   ],
   "source": [
    "input_data= \"\"\"\n",
    "14 10 2  \n",
    "SWM VOL ATH VOL VOL BSK HCK BSK SWM BSK\n",
    "1  \n",
    "BSK 98  \n",
    "HCK 12  \n",
    "2  \n",
    "ATH 14  \n",
    "VOL 1  \n",
    "3  \n",
    "HCK 82  \n",
    "ATH 30  \n",
    "4  \n",
    "HCK 9  \n",
    "SWM 27  \n",
    "5  \n",
    "FTB 90  \n",
    "HCK 50  \n",
    "6  \n",
    "ATH 52  \n",
    "RGB 80  \n",
    "7  \n",
    "HCK 95  \n",
    "SWM 11  \n",
    "8  \n",
    "TEN 85  \n",
    "RGB 7  \n",
    "9  \n",
    "RGB 46  \n",
    "SWM 30  \n",
    "10  \n",
    "SWM 16  \n",
    "BSK 12  \n",
    "11  \n",
    "VOL 32  \n",
    "HCK 40  \n",
    "12  \n",
    "SOC 41  \n",
    "FTB 12  \n",
    "13  \n",
    "SWM 59  \n",
    "TEN 82  \n",
    "14  \n",
    "SWM 34  \n",
    "VOL 20  \n",
    "\"\"\"\n",
    "\n",
    "optimal_score = get_best_score(input_data)\n",
    "print(\"Maximum global score achievable:\", optimal_score)\n"
   ]
  },
  {
   "cell_type": "markdown",
   "metadata": {},
   "source": [
    "**As we can see both the proposed input achieve the output desired.**\n",
    "\n",
    "---"
   ]
  },
  {
   "cell_type": "markdown",
   "metadata": {},
   "source": [
    "<div style=\"border: solid black; background-color: #ffffff; padding:10px;\">\n",
    "\n",
    "**Let's now answer to the question 2: the time complexity of our algorithm, below the detailed explanation**"
   ]
  },
  {
   "cell_type": "markdown",
   "metadata": {},
   "source": [
    "The time complexity is $O(N*C(N, M))$ where:\n",
    "- $N$ is the number of athletes, \n",
    "- $M$ is the number of skills, \n",
    "- $C(N, M)$ is the the binomial coefficient of $N$ choose $M$\n",
    "\n",
    "**Let's break it down carefully looking inside the function:**"
   ]
  },
  {
   "cell_type": "markdown",
   "metadata": {},
   "source": [
    "<pre style=\"border: none; background-color: #f0f8ff; padding:10px; font-family: 'Roboto Mono', monospace;\">\n",
    "lines = data.strip().split('\\n')\n"
   ]
  },
  {
   "cell_type": "markdown",
   "metadata": {},
   "source": [
    "<div style=\"border: solid black; background-color: #fffafa; padding:10px;\">\n",
    "\n",
    "Splitting the string: $O(2+N*(S+1))$, where $2+N*(S+1)$ is the length of the data string because contains the first two lines that are the $N,M,S$ values and the second line is the set of skills, after this 2 lines there will be each and every time the athlete id for a total of N lines followed by the number of lines equals to $S$ so in the end after the first 2 lines we will have $N*(S+1)$ lines"
   ]
  },
  {
   "cell_type": "markdown",
   "metadata": {},
   "source": [
    "<pre style=\"border: none; background-color: #f0f8ff; padding:10px; font-family: 'Roboto Mono', monospace;\">\n",
    "N, M, S = map(int, lines[0].split()) "
   ]
  },
  {
   "cell_type": "markdown",
   "metadata": {},
   "source": [
    "<div style=\"border: solid black; background-color: #fffafa; padding:10px;\">\n",
    "    \n",
    "Parsing the first line to integers: $O(1)$"
   ]
  },
  {
   "cell_type": "markdown",
   "metadata": {},
   "source": [
    "<pre style=\"border: none; background-color: #f0f8ff; padding:10px; font-family: 'Roboto Mono', monospace;\">\n",
    "required_skills = lines[1].split()"
   ]
  },
  {
   "cell_type": "markdown",
   "metadata": {},
   "source": [
    "<div style=\"border: solid black; background-color: #fffafa; padding:10px;\">\n",
    "    \n",
    "Splitting the required skills: $O(M)$, where $M$ is the number of skills and the lines that cointains the skill contains exactly $M$ values"
   ]
  },
  {
   "cell_type": "markdown",
   "metadata": {},
   "source": [
    "<pre style=\"border: none; background-color: #f0f8ff; padding:10px; font-family: 'Roboto Mono', monospace;\">\n",
    "athlete_skills = {}"
   ]
  },
  {
   "cell_type": "markdown",
   "metadata": {},
   "source": [
    "<div style=\"border: solid black; background-color: #fffafa; padding:10px;\">\n",
    "\n",
    "Initializing the dictionary: $O(1)$"
   ]
  },
  {
   "cell_type": "markdown",
   "metadata": {},
   "source": [
    "<pre style=\"border: none; background-color: #f0f8ff; padding:10px; font-family: 'Roboto Mono', monospace;\">\n",
    "for i in range(2, len(lines), S + 1):  \n",
    "    athlete_id = int(lines[i])    \n",
    "    athlete_skills[athlete_id] = {}  \n",
    "    for j in range(1, S + 1):  \n",
    "        skill, score = lines[i + j].split()  \n",
    "        score = int(score)  \n",
    "        athlete_skills[athlete_id][skill] = score \n",
    "</pre>\n",
    "\n"
   ]
  },
  {
   "cell_type": "markdown",
   "metadata": {},
   "source": [
    "<div style=\"border: solid black; background-color: #fffafa; padding:10px;\">\n",
    "\n",
    "Each step in the *for* loops are $O(1)$ because is time fixed operation  \n",
    "The outer *for* loop: $O(S)$  \n",
    "The inner *for* loop: $O(S)$ where S is the number of skills per athlete  \n",
    "**The overall *for* loop: $O(N*S)$**   "
   ]
  },
  {
   "cell_type": "markdown",
   "metadata": {},
   "source": [
    "<pre style=\"border: none; background-color: #f0f8ff; padding:10px; font-family: 'Roboto Mono', monospace;\">\n",
    "if memo is None:  \n",
    "    memo = {}  \n",
    "if assigned_athletes is None:  \n",
    "    assigned_athletes = set()"
   ]
  },
  {
   "cell_type": "markdown",
   "metadata": {},
   "source": [
    "<div style=\"border: solid black; background-color: #fffafa; padding:10px;\">\n",
    "\n",
    "These are checks and initializations so they have $O(1)$ time complexity"
   ]
  },
  {
   "cell_type": "markdown",
   "metadata": {},
   "source": [
    "<pre style=\"border: none; background-color: #f0f8ff; padding:10px; font-family: 'Roboto Mono', monospace;\">\n",
    "if skill_index == len(required_skills):  \n",
    "    return 0  "
   ]
  },
  {
   "cell_type": "markdown",
   "metadata": {},
   "source": [
    "<div style=\"border: solid black; background-color: #fffafa; padding:10px;\">\n",
    "    \n",
    "This step is checking if all skills are assigned so the time complexity is fixed $O(1)$"
   ]
  },
  {
   "cell_type": "markdown",
   "metadata": {},
   "source": [
    "<pre style=\"border: none; background-color: #f0f8ff; padding:10px; font-family: 'Roboto Mono', monospace;\">\n",
    "state = (skill_index, tuple(sorted(assigned_athletes)))  \n",
    "if state in memo:  \n",
    "    return memo[state]  "
   ]
  },
  {
   "cell_type": "markdown",
   "metadata": {},
   "source": [
    "<div style=\"border: solid black; background-color: #fffafa; padding:10px;\">\n",
    "\n",
    "The first line here create the state tuple and the time complexity is $O(M*log(M))$ (sort step is $O(M*log(M))$, tuple creation is $O(M)$)  \n",
    "The step that checks if the state is in the memo takes $O(1)$ in average, but could be worse up to $O(M)$"
   ]
  },
  {
   "cell_type": "markdown",
   "metadata": {},
   "source": [
    "<pre style=\"border: none; background-color: #f0f8ff; padding:10px; font-family: 'Roboto Mono', monospace;\">\n",
    "max_score = 0  \n",
    "skill = required_skills[skill_index]\n"
   ]
  },
  {
   "cell_type": "markdown",
   "metadata": {},
   "source": [
    "<div style=\"border: solid black; background-color: #fffafa; padding:10px;\">\n",
    "\n",
    "Initializing max_score and retrieving a skill is of the order of $O(1)$"
   ]
  },
  {
   "cell_type": "markdown",
   "metadata": {},
   "source": [
    "<pre style=\"border: none; background-color: #f0f8ff; padding:10px; font-family: 'Roboto Mono', monospace;\">\n",
    "for athlete_id, skills in athlete_skills.items():  \n",
    "    if athlete_id not in assigned_athletes:  \n",
    "        current_score = skills.get(skill, 0)  \n",
    "        assigned_athletes.add(athlete_id)  \n",
    "        score = current_score + recursive_with_memoization(data, skill_index + 1, assigned_athletes, memo)  \n",
    "        max_score = max(max_score, score)  \n",
    "        assigned_athletes.remove(athlete_id)  "
   ]
  },
  {
   "cell_type": "markdown",
   "metadata": {},
   "source": [
    "<div style=\"border: solid black; background-color: #fffafa; padding:10px;\">\n",
    "\n",
    "\n",
    "The for loop iterates over N athletes, the the checks and updates are $O(1)$ each. The core of the time complexity is the recursive call that took $O(N*C(N, M))$ because for each skill, the algorithm iterates over all athletes to find the best match and in the worst case, this results in $N$ choices for the first skill, $N-1$ for the second, and so on, until $M$ skills are assigned. However, since the order of assignment doesn't matter because only the mx score interested to us, the actual number of states to consider is bound by the combination of choosing M athletes out of N, which is \"$N$ choose $M$\" $(C(N,M))$"
   ]
  },
  {
   "cell_type": "markdown",
   "metadata": {},
   "source": [
    "<pre style=\"border: none; background-color: #f0f8ff; padding:10px; font-family: 'Roboto Mono', monospace;\">\n",
    "memo[state] = max_score  \n",
    "return max_score\n"
   ]
  },
  {
   "cell_type": "markdown",
   "metadata": {},
   "source": [
    "<div style=\"border: solid black; background-color: #fffafa; padding:10px;\">\n",
    "\n",
    "The memorizing part have a $O(1)$ time complexity in average but $O(M)$ in the worst case, instead the returning step has $O(1)$ time complexity"
   ]
  },
  {
   "cell_type": "markdown",
   "metadata": {},
   "source": [
    "<div style=\"border: none; background-color: #fffafa; padding:10px;\">\n",
    "    \n",
    "In the end we said that the time complexity is $O(N*C(N, M))$ but the binomial coefficient can be approximated as $O(N^M)$ in the worst case (when M is small compared to N). Therefore, the worst-case time complexity can be approximated as $O(N^{M+1})$, what we can say looking at this time complexity is that the algorithm may become quite inefficient for large values of $N$ and $M$, especially when $M$ is not significantly smaller than $N$"
   ]
  },
  {
   "cell_type": "markdown",
   "metadata": {},
   "source": [
    "---"
   ]
  },
  {
   "cell_type": "markdown",
   "metadata": {},
   "source": [
    "<div style=\"border: solid black; background-color: #ffffff; padding:10px;\">\n",
    "\n",
    "**Let's now answer to the question 3: ask ChatGPT or any other LLM chatbot tool to check my code's time complexity (the Big O notation), compare the answers and explain which one is right and why if the two answers are different**"
   ]
  },
  {
   "cell_type": "markdown",
   "metadata": {},
   "source": [
    "I asked **ChatGPT** about the time complexity of my algorithm and he told me that the time complexity is $O(N*M*2^N)$ and not ad we said $O(N*C(N, M))$ but in our opinion the two answers are correlated because if we thought about the ChatGPT answer we could say that he analyzed the complexity of the algorithm in another manner that is focused maybe on considering the worst-case scenario because we have:\n",
    "\n",
    "$N$ choices per skill: for each skill we have up to $N$ athletes to choose from and this contributes a factor of $N$ to the complexity.\n",
    "\n",
    "Depth of Recursion ($M$): the recursion part goes as deep as the number of skills, $M$ because for each skill we're making a new set of choices so this contributes a factor of $M$ to the complexity.\n",
    "\n",
    "All combinations of athletes ($2^N$): the most significant factor in the **ChatGPT analysis** is considering all possible combinations of athletes that are $2^N$ possible subsets of athletes (including the empty set and the set of all athletes). This is because, for each athlete, there are two choices: either they are included in a particular subset or they are not.\n",
    "\n",
    "Our algorithm essentially performs an exhaustive search over all possible combinations of athlete assignments to skills and for each skill we are considering whether to include each athlete in the assignment or not leading to the $2^N$ factor. The interaction of multiple skills ($M$) and the need to explore choices for each of these skills with all possible combinations of athletes leads to the multiplication of these factors.\n",
    "\n",
    "**So in conclusion we thought that neither answers are wrong because the ChatGPT suggested time complexity is a more generic and pessimistic estimate that does not take memorization into account and assumes that the algorithm must explore every possible subset of athletes for each skill, regardless of assignment order or previous stored calculations emphasizing the exhaustive nature of the search over all possible combinations of athletes for each skill and the $O(N * C(N, M))$ time complexity is a more accurate estimate for the complexity of our algorithm because it takes into account unique combinations rather than all possible subsets.**"
   ]
  },
  {
   "cell_type": "markdown",
   "metadata": {},
   "source": [
    "---"
   ]
  },
  {
   "cell_type": "markdown",
   "metadata": {},
   "source": [
    "<div style=\"border: solid black; background-color: #ffffff; padding:10px;\">\n",
    "\n",
    "**Let's now answer to the question 4: our algorithm has exponential time complexity so we try to generate a polynomial-time version of our algorithm**"
   ]
  },
  {
   "cell_type": "markdown",
   "metadata": {},
   "source": [
    "We thought for a long time whether our algorithm **could be modified** in such a way as to have **polynomail time complexity** but the answer is that we **cannot achieve** such a great result with a naive algorithm because when dealing with the problem of selecting athletes with multiple skills, so when we have $S>1$, creating a polynomial time algorithm can be challenging for several reasons for example we we should deal with:\n",
    "\n",
    "- **Complexity of the problem**: in particular the combinatorial nature of the problem because its core is combinatorial due to the fact that each athlete can have multiple skills, the number of possible combinations of athletes to cover all required skills grows exponentially with the number of athletes and skills and we thought that this combinatorial explosion makes it difficult to find an optimal solution within polynomial time.\n",
    "\n",
    "- **Variability of skills and scores**: Each athlete can have a different set of skills with varying scores and this variability increases the complexity of making optimal choices because with multiple skills per athlete, the decision of which athlete to choose for which skill becomes complex.\n",
    "\n",
    "We thought if we could use a greedy algorithm but greedy algorithms, which make the locally optimal choice at each step, often fail in this scenario because the best choice at a given moment might not lead to an overall best solution. Furthermore athletes can share skills, leading to overlapping options for each required skill and this overlap complicates the process of ensuring that each skill is covered by a unique athlete while also trying to maximize the total score."
   ]
  },
  {
   "cell_type": "markdown",
   "metadata": {},
   "source": [
    "---"
   ]
  },
  {
   "cell_type": "markdown",
   "metadata": {},
   "source": [
    "<div style=\"border: solid black; background-color: #ffffff; padding:10px;\">\n",
    "\n",
    "**Let's now answer to the question 5: we consider $S=1$ and let's have a look how the time complexity of an optimal algorithm to solve this problem changes**"
   ]
  },
  {
   "cell_type": "markdown",
   "metadata": {},
   "source": [
    "If we think about the case of $S=1$ the problem and then, of course our algorithm, which involves recursive exploration with memoization, can be simplified and optimized because now:\n",
    "\n",
    "- **Each athlete has only one skill:** this eliminates the need for a nested dictionary to store multiple skills per athlete and instead of it we can use a simpler structure where each athlete is directly associated with their single skill and its score.\n",
    "Reduced Recursive Complexity:\n",
    "\n",
    "- **The recursive exploration isn't necessary** because for each athlete we only need to consider one skill.\n",
    "\n",
    "- **We can use different type of data structure and more simple code to deal with** since each athlete only has one skill the state can be represented by the set of athletes that have been considered and the number of skills already assigned.\n",
    "\n",
    "- **The time complexity improves** \n",
    "\n",
    "So we can revise our algorithm since each athlete has exactly one skill we can sort the athletes based on their proficiency in each skill and then select the top athlete for each required skill (assuming that the best team composition would include the highest-scoring athlete for each required skill), so we can revise our algorithm creating a mapping of skills to each athletes along with their scores, then we can sort by proficiency for each skill and the we select the athletes with the highest score who has not already been selected and if no athletes have a particular skill, that role contributes a score of 0. At the end we sum the scores of the selected athletes to get the total team score."
   ]
  },
  {
   "cell_type": "code",
   "execution_count": 4,
   "metadata": {},
   "outputs": [],
   "source": [
    "def max_global_score_optimized(data):\n",
    "    # splitting the input data into lines\n",
    "    lines = data.strip().split('\\n')\n",
    "\n",
    "    # extracting N, M, S from the first line\n",
    "    N, M, S = map(int, lines[0].split())\n",
    "\n",
    "    # extracting the required skills from the second line\n",
    "    required_skills = lines[1].split()\n",
    "\n",
    "    # list of athletes with their skill and score\n",
    "    athletes = []\n",
    "    for i in range(2, len(lines), S + 1):\n",
    "        athlete_id = int(lines[i])\n",
    "        skill, score = lines[i + 1].split()\n",
    "        score = int(score)\n",
    "        athletes.append((score, skill, athlete_id))\n",
    "\n",
    "    # sorting athletes by score in descending order\n",
    "    athletes.sort(reverse=True)\n",
    "\n",
    "    # selecting athletes for each required skill\n",
    "    skill_assigned = set()\n",
    "    total_score = 0\n",
    "    for skill in required_skills:\n",
    "        for score, athlete_skill, athlete_id in athletes:\n",
    "            if athlete_skill == skill and athlete_id not in skill_assigned:\n",
    "                total_score += score\n",
    "                skill_assigned.add(athlete_id)\n",
    "                break\n",
    "\n",
    "    return total_score"
   ]
  },
  {
   "cell_type": "markdown",
   "metadata": {},
   "source": [
    "**Example of usage**\n",
    "\n",
    "We now test our function on an input proposed by the exercise:"
   ]
  },
  {
   "cell_type": "code",
   "execution_count": 5,
   "metadata": {},
   "outputs": [
    {
     "name": "stdout",
     "output_type": "stream",
     "text": [
      "Maximum global score achievable: 370\n"
     ]
    }
   ],
   "source": [
    "input_data = \"\"\"\n",
    "14 10 1\n",
    "SWM VOL ATH VOL VOL BSK HCK BSK SWM BSK\n",
    "1\n",
    "BSK 98\n",
    "2\n",
    "ATH 14\n",
    "3\n",
    "HCK 82\n",
    "4\n",
    "HCK 9\n",
    "5\n",
    "FTB 90\n",
    "6\n",
    "ATH 52\n",
    "7\n",
    "HCK 95\n",
    "8\n",
    "TEN 85\n",
    "9\n",
    "RGB 46\n",
    "10\n",
    "SWM 16\n",
    "11\n",
    "VOL 32\n",
    "12\n",
    "SOC 41\n",
    "13\n",
    "SWM 59\n",
    "14\n",
    "SWM 34\n",
    "\"\"\"\n",
    "\n",
    "optimal_score= max_global_score_optimized(input_data)\n",
    "print(\"Maximum global score achievable:\", optimal_score)"
   ]
  },
  {
   "cell_type": "markdown",
   "metadata": {},
   "source": [
    "**Let's now analyze how changes the time complexity**"
   ]
  },
  {
   "cell_type": "markdown",
   "metadata": {},
   "source": [
    "<pre style=\"border: none; background-color: #f0f8ff; padding:10px; font-family: 'Roboto Mono', monospace;\">\n",
    "lines = data.strip().split('\\n')\n",
    "N, M, S = map(int, lines[0].split())\n",
    "required_skills = lines[1].split()"
   ]
  },
  {
   "cell_type": "markdown",
   "metadata": {},
   "source": [
    "<div style=\"border: solid black; background-color: #fffafa; padding:10px;\">\n",
    "\n",
    "**Parsing the input**: it involves splitting the data into lines that requires $O(2+N*(S+1))=O(2+2*N)$, extracting N, M, S that requires $O(1)$ as it's a simple operation and then extracting required skills that have $O(M)$ time complexity since there are $M$ skills."
   ]
  },
  {
   "cell_type": "markdown",
   "metadata": {},
   "source": [
    "<pre style=\"border: none; background-color: #f0f8ff; padding:10px; font-family: 'Roboto Mono', monospace;\">\n",
    "athletes = []\n",
    "for i in range(2, len(lines), S + 1):\n",
    "   athlete_id = int(lines[i])\n",
    "   skill, score = lines[i + 1].split()\n",
    "   score = int(score)\n",
    "   athletes.append((score, skill, athlete_id))"
   ]
  },
  {
   "cell_type": "markdown",
   "metadata": {},
   "source": [
    "<div style=\"border: solid black; background-color: #fffafa; padding:10px;\">\n",
    "\n",
    "**Creating athletes list:** the loop runs $\\frac{N}{(S+1)}=\\frac{N}{2}$ times, as each athlete's data is spread over $S+1=2$ lines, LOOKING Inside the loop we have kind of ooperations are that has $O(1)$ time complexity, so this part is $O(N)$."
   ]
  },
  {
   "cell_type": "markdown",
   "metadata": {},
   "source": [
    "<pre style=\"border: none; background-color: #f0f8ff; padding:10px; font-family: 'Roboto Mono', monospace;\">\n",
    "athletes.sort(reverse=True)"
   ]
  },
  {
   "cell_type": "markdown",
   "metadata": {},
   "source": [
    "<div style=\"border: solid black; background-color: #fffafa; padding:10px;\">\n",
    "\n",
    "**Sorting athletes:** the sorting part as we know takes $O(N*log(N))$ since there are $N$ athletes"
   ]
  },
  {
   "cell_type": "markdown",
   "metadata": {},
   "source": [
    "<pre style=\"border: none; background-color: #f0f8ff; padding:10px; font-family: 'Roboto Mono', monospace;\">\n",
    "\n",
    "skill_assigned = set()\n",
    "total_score = 0\n",
    "for skill in required_skills:\n",
    "    for score, athlete_skill, athlete_id in athletes:\n",
    "        if athlete_skill == skill and athlete_id not in skill_assigned:\n",
    "            total_score += score\n",
    "            skill_assigned.add(athlete_id)\n",
    "            break"
   ]
  },
  {
   "cell_type": "markdown",
   "metadata": {},
   "source": [
    "<div style=\"border: solid black; background-color: #fffafa; padding:10px;\">\n",
    "\n",
    "**Selecting athletes:** the outer loop runs $M$ times for each required skill and the inner one potentially runs up to $N$ times for each athlete, but in the worst case, this part is $O(M*N)$"
   ]
  },
  {
   "cell_type": "markdown",
   "metadata": {},
   "source": [
    "<div style=\"border: none; background-color: #fffafa; padding:10px;\">\n",
    "    \n",
    "So in the end for the calculation of the time complexity parsing input give a contribution of $O(2+2*N+M)$, the creation of the athletes list gives $O(N)$, the sorting part gives $O(N*log(N))$ and the selection gives a contribution of $O(M*N)$, so in the end the dominant term here is either $O(N*log(N))$ or $O(M*N)$, depending on the relationship between $M$ and $N$ because if we think about it if $M$ is much smaller than $N$, then $O(N*log(N))$ dominates, but if $M$ and $N$ pretty close, then $O(M*N)$ could be the dominating term. **In conclusion, the overall time complexity of this algorithm is $\\mathbf{O(N*log(N)+M*N)}$, which simplifies to $\\mathbf{O(M*N)}$ if, as we said above, $M$ and $N$ are of the same order.**"
   ]
  },
  {
   "cell_type": "markdown",
   "metadata": {},
   "source": [
    "---"
   ]
  },
  {
   "cell_type": "markdown",
   "metadata": {},
   "source": [
    "### Part B\n",
    "\n",
    "The success of a project depends not only on the expertise of the people involved but also on how effectively they work together as a team. So this time, instead of focusing on who has the best skills, let's focus on finding a group of individuals who can function as a team to accomplish a specific task.\n",
    "\n",
    "Given a set of skills $T$, our goal is to find a set of individuals $X'\\subseteq X$, such that every required skill in $T$ is exhibited by at least one individual in $X'$. Additionally, the members of team $X'$ should have low effort to work together i.e. all the members of the team $X'$ work well with each other.\n",
    "\n",
    "This problem can be easily visualised with graphs: we define an undirected weighted graph $G=(V,E)$ where every element $x_i \\in X$ has a corresponding node $v_i \\in V$. The weights of the edges represent the effort required to work well together: the lower the weight of an edge between two nodes, the less effort the corresponding team members need to work well together.\n",
    "\n",
    "We define as acceptable solution any subset $V' \\subseteq V$ such that $T \\cap \\cup_{v_i \\in V'} S_{v_i}$ where $S_{v_i} =$ {set of skills of member $x_i$ corresponding to the vertex $v_i$}. The goal is to find, among all acceptable solutions, the one that minimizes the effort to work together $E_c(V')$. The effort to work together $E_c(V')$ is the cost of the minimum spanning tree on the subgraph $G[V']$ i.e. the sum of the weights of its edges."
   ]
  },
  {
   "cell_type": "markdown",
   "metadata": {},
   "source": [
    "### Your job:\n",
    "\n",
    "1. Prove or disprove that the problem is NP-complete.\n",
    "2. Write a heuristic in order to approximate the best solution for this problem.\n",
    "3. What is the time complexity of your solution?\n",
    "\n",
    "---"
   ]
  },
  {
   "cell_type": "markdown",
   "metadata": {},
   "source": [
    "<div style=\"border: solid black; background-color: #ffffff; padding:10px;\">\n",
    "\n",
    "**Let's now answer to the question 1: proof of the NP-completeness of the problem.**\n"
   ]
  },
  {
   "cell_type": "markdown",
   "metadata": {},
   "source": [
    "We want to analyze whether the problem described is **NP-complete.**\n",
    "\n",
    "First of all we're dealing with an optimization problem and to explore the **NP-completeness** we'll consider its decision problem version to prove NP-completeness.\n",
    "\n",
    "We can state the decision problem in this way:\n",
    "\n",
    "given **a set of skills $T$, a set of individuals $X$, each with a subset of skills and represented as nodes in an undirected weighted graph $G = (V, E)$ (the weights represent the effort required to work together), a threshold effort level $k$**, what the problem is asking if is there **a subset of individuals $X' \\subseteq X$ such that every skill in $T$ is covered by at least one individual in $X'$ and the total effort to work together $E_c(V')$ for the team $X'$ (as defined by the minimum spanning tree of the subgraph induced by $X'$) is less than or equal to $k$**.\n",
    "\n",
    "First of all recap when a problem is in **NP** and a problem is in **NP if a solution to the problem can be verified in polynomial time.** In our context we can prove the **NP-completeness** proving that the problem is **both in NP and NP-hard**.\n",
    "\n",
    "Looking at our problem given a subset $X'$ we can verify whether every skill in $T$ is covered and whether the total effort $E_c(V')$ is less than or equal to $k$ in polynomial time, now to prove **NP-hardness**, we reduce a known **NP-complete problem to our problem** and if we think about the example we saw in class **the set cover problem**, which we know to be NP-complete, is a potential candidate for reduction, indeed:\n",
    "\n",
    "Let each individual in $X$ represent a set, where the set contains the skills of that individual and let the universe of elements in the set cover problem be the set of skills $T$.\n",
    "\n",
    "This demonstrates that finding a subset of individuals such that every skill in $T$ is covered is at least as hard as solving the set cover problem.\n",
    "\n",
    "In conclusion since the problem is **both in NP and NP-hard** we can conclude that the decision problem version is **NP-complete**, but remember that we're dealing with an **optimization problem** as original problem so now we have proved that that problem is **NP-complete** due to the fact that the decision version is."
   ]
  },
  {
   "cell_type": "markdown",
   "metadata": {},
   "source": [
    "<div style=\"border: solid black; background-color: #ffffff; padding:10px;\">\n",
    "\n",
    "**Let's now answer to the question 2: our heuristic in order to approximate the best solution for this problem.**"
   ]
  },
  {
   "cell_type": "markdown",
   "metadata": {},
   "source": [
    "We thought about a **greedy algorithm** to solve this problem because this is a heuristic approach (method particularly useful for NP-hard problems, as they provide approximate solutions in a reasonable amount of time).   \n",
    "\n",
    "\n",
    "The goal of the problem is to form a team that covers all required skills with the minimum effort for collaboration so we can think about **this problem as a variant of the minimum spanning tree (MST) problem with an additional constraint on covering all required skills**, so the idea for an algorithm that we have is the following: \n",
    "\n",
    "**- Start with an empty team and iteratively add individuals to the team.**\n",
    "**- In each step choose the individual who adds the most uncovered skills at the least additional effort.**\n",
    "**- Stop when all required skills are covered.**\n",
    "\n",
    "So in terms of algorithm steps we can follow three steps **\"INITIALIZATION\", \"ITERATIONS\", \"BUILDING MINIMUM SPANNING TREE\", \"RETURN SOLUTION\"** and in partiucular this is the pseudocode of our algorithm:\n",
    "\n",
    "<pre style=\"border: none; background-color: #f0f8ff; padding:10px; font-family: 'Roboto Mono', monospace;\">\n",
    "def team_formation(G, T):  \n",
    "  Q = initialize_priority_queue(G, T)  \n",
    "  X_prime = set()  \n",
    "  covered_skills = set()  \n",
    "  while covered_skills != T:  \n",
    "    best_candidate = Q.pop()  \n",
    "    X_prime.add(best_candidate)  \n",
    "    covered_skills.update(skills_of(best_candidate))  \n",
    "    update_priority_queue(Q, X_prime, T, covered_skills)  \n",
    "  effort = compute_minimum_spanning_tree_effort(G, X_prime)  \n",
    "  return X_prime, effort\n",
    "<pre>\n"
   ]
  },
  {
   "cell_type": "markdown",
   "metadata": {},
   "source": [
    "Let's have a deep look on it:\n",
    "\n",
    "- Set $T$ as the set of required skills.\n",
    "- Create a priority queue $Q$ that orders individuals based on the ratio of the number of new skills they can add to the team to the additional effort they bring.\n",
    "- Initialize the team $X'$ as an empty set.\n",
    "- While there are skills in $T$ not yet covered by $X'$ the algorithm will select and remove the individual from $Q$ who has the highest ratio of new skills to additional effort, it will add this individual to $X'$, then it will update $T$ by removing the skills now covered by the new team member and at the end of the while loop the algorithm will update the priority queue $Q$ in order to reflect the new situation (since the addition of a new team member can change the ratio for the remaining candidates).\n",
    "- Build minimum spanning tree: once all skills are covered the algorithm will construct the subgraph induced by $X'$ and it will compute the minimum spanning tree of this subgraph to determine the total effort $E_c(V')$ - this step can be covered with **Prim's algorithm for example**.\n",
    "- The last step is the returning solution: the resulting team $X'$ and the effort $E_c(V')$ that form the approximate solution.\n",
    "\n",
    "#### Clarifications\n",
    "\n",
    "Functions like `initialize_priority_queue`, `update_priority_queue`, `skills_of` and `compute_minimum_spanning_tree_effort` called in our pseudocode are name at ramndom choosen to deal with the problem and break down the algorithm, they have to be defined and their aim is what we have previously discuss."
   ]
  },
  {
   "cell_type": "markdown",
   "metadata": {},
   "source": [
    "<div style=\"border: solid black; background-color: #ffffff; padding:10px;\">\n",
    "\n",
    "**Let's now answer to the question 3: analysis of time complexity of our solution**"
   ]
  },
  {
   "cell_type": "markdown",
   "metadata": {},
   "source": [
    "To better analyze the time complexity of the `team_formation` function we consider the complexity of each operation within the loop and let's assume:\n",
    "\n",
    "- $n$: number of individuals (nodes in the graph $G$).\n",
    "- $m$: number of edges in the graph $G$.\n",
    "- $s$: number of skills in the set $T$.\n",
    "\n",
    "Let's break down each step in the function."
   ]
  },
  {
   "cell_type": "markdown",
   "metadata": {},
   "source": [
    "<pre style=\"border: none; background-color: #f0f8ff; padding:10px; font-family: 'Roboto Mono', monospace;\">\n",
    "Q = initialize_priority_queue(G, T)"
   ]
  },
  {
   "cell_type": "markdown",
   "metadata": {},
   "source": [
    "<div style=\"border: solid black; background-color: #fffafa; padding:10px;\">\n",
    "\n",
    "The complexity depends on the implementation of the priority queue and the computation of initial ratios and it would be $O(n \\cdot f(s))$, where $f(s)$ is the complexity of calculating the ratio for each individual"
   ]
  },
  {
   "cell_type": "markdown",
   "metadata": {},
   "source": [
    "<pre style=\"border: none; background-color: #f0f8ff; padding:10px; font-family: 'Roboto Mono', monospace;\">\n",
    "X_prime = set()\n",
    "covered_skills = set()"
   ]
  },
  {
   "cell_type": "markdown",
   "metadata": {},
   "source": [
    "<div style=\"border: solid black; background-color: #fffafa; padding:10px;\">\n",
    "\n",
    "These initalization counts $O(1)$ for the time complexity because are fixed operation"
   ]
  },
  {
   "cell_type": "markdown",
   "metadata": {},
   "source": [
    "<pre style=\"border: none; background-color: #f0f8ff; padding:10px; font-family: 'Roboto Mono', monospace;\">\n",
    "while covered_skills != T:\n",
    "    best_candidate = Q.pop()\n",
    "    X_prime.add(best_candidate)\n",
    "    covered_skills.update(skills_of(best_candidate))\n",
    "    update_priority_queue(Q, X_prime, T, covered_skills)"
   ]
  },
  {
   "cell_type": "markdown",
   "metadata": {},
   "source": [
    "<div style=\"border: solid black; background-color: #fffafa; padding:10px;\">\n",
    "\n",
    "In total this while loop runs until all skills are covered, potentially $n$ times in the worst case because removing the top element from a priority queue is typically an $O(\\log n)$ operation, adding an individual to `X_prime` and updating `covered_skills` can be done in $O(s)$. Updating the queue requires $O(n \\cdot f(s))$ for each update."
   ]
  },
  {
   "cell_type": "markdown",
   "metadata": {},
   "source": [
    "<pre style=\"border: none; background-color: #f0f8ff; padding:10px; font-family: 'Roboto Mono', monospace;\">\n",
    "effort = compute_minimum_spanning_tree_effort(G, X_prime)"
   ]
  },
  {
   "cell_type": "markdown",
   "metadata": {},
   "source": [
    "<div style=\"border: solid black; background-color: #fffafa; padding:10px;\">\n",
    "\n",
    "This is the core of the algorithm and the computation of the minimum spanning tree can be done using algorithms like Prim's and so typically with complexity $O(m \\cdot \\log n)$ or $O(n \\cdot \\log n)$."
   ]
  },
  {
   "cell_type": "markdown",
   "metadata": {},
   "source": [
    "<div style=\"border: none; background-color: #fffafa; padding:10px;\">\n",
    "\n",
    "So in the end combining these time complexity, the complexity is:\n",
    "\n",
    "$O(n \\cdot f(s)) + O(n) \\times (O(\\log n) + O(s) + O(n \\cdot f(s))) + O(m \\cdot \\log n)$\n",
    "\n",
    "Simplifying and assuming $f(s)$ is not large compared to $n$ and $m$ and considering $m$ could be as large as $O(n^2)$ in a dense graph the dominating term could be $O(n^2 \\cdot f(s)) + O(m \\cdot \\log n)$.\n",
    "\n",
    "This is an estimation due to the fact that each time complexity can vary based on how the operation described will be implemented. \n"
   ]
  }
 ],
 "metadata": {
  "kernelspec": {
   "display_name": "Python 3 (ipykernel)",
   "language": "python",
   "name": "python3"
  },
  "language_info": {
   "codemirror_mode": {
    "name": "ipython",
    "version": 3
   },
   "file_extension": ".py",
   "mimetype": "text/x-python",
   "name": "python",
   "nbconvert_exporter": "python",
   "pygments_lexer": "ipython3",
   "version": "3.10.7"
  }
 },
 "nbformat": 4,
 "nbformat_minor": 2
}
